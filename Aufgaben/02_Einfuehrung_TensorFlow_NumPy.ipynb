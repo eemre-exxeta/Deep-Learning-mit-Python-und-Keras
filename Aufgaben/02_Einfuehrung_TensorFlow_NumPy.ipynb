{
 "cells": [
  {
   "attachments": {},
   "cell_type": "markdown",
   "id": "9c8a758f",
   "metadata": {},
   "source": [
    "# Einführung in TensorFlow & NumPy"
   ]
  },
  {
   "cell_type": "code",
   "execution_count": null,
   "id": "3e6c8ad5",
   "metadata": {},
   "outputs": [],
   "source": [
    "import tensorflow as tf\n",
    "import numpy as np"
   ]
  },
  {
   "attachments": {},
   "cell_type": "markdown",
   "id": "49c40285",
   "metadata": {},
   "source": [
    "Die folgende Übung soll Sie ein bisschen mit dem TensorFlow und NumPy package vertraut machen.<br>\n",
    "Falls Sie eine Funktion oder Methode nachschauen wollen, können Sie im Vorschau Notebook oder direkt in der TensorFlow oder NumPy Doku nachschauen:\n",
    "\n",
    "* TensorFlow: https://www.tensorflow.org/api_docs/python/tf/all_symbols\n",
    "* NumPy: https://numpy.org/doc/stable/reference/generated/numpy.sum.html"
   ]
  },
  {
   "cell_type": "markdown",
   "id": "932a701a",
   "metadata": {},
   "source": [
    "### Überführen Sie folgende Tabelle in einen Tensor. Achten Sie dabei auf den geeigneten Datentyp"
   ]
  },
  {
   "cell_type": "markdown",
   "id": "dbe3fb48",
   "metadata": {},
   "source": [
    "|    |   Artikel |   Menge |   Preis |\n",
    "|---:|----------:|--------:|--------:|\n",
    "|  0 |         0 |       5 |    6.52 |\n",
    "|  1 |         1 |       2 |    4.3  |\n",
    "|  2 |         2 |       3 |    2.15 |\n",
    "|  3 |         3 |       4 |    1.75 |\n",
    "|  4 |         4 |       1 |    0.5  |"
   ]
  },
  {
   "cell_type": "code",
   "execution_count": null,
   "id": "162f26cf",
   "metadata": {},
   "outputs": [],
   "source": [
    "## Ihr Code"
   ]
  },
  {
   "cell_type": "markdown",
   "id": "dc44bc0e",
   "metadata": {},
   "source": [
    "### Sie wollen nun den Gesamtumsatz aller Artikel Ihrer Liste berechnen. Nutzen Sie dafür entweder tensorflow oder numpy-Funktionalitäten"
   ]
  },
  {
   "cell_type": "code",
   "execution_count": null,
   "id": "1e92c4df",
   "metadata": {},
   "outputs": [],
   "source": [
    "## Ihr Code"
   ]
  },
  {
   "cell_type": "markdown",
   "id": "6cda9b8a",
   "metadata": {},
   "source": [
    "### Ihr Preis ist nun um das doppelte gestiegen. Verrechnen Sie den Preisanstieg in Ihrem zuvor angelegten Tensor. Was ist nun das Problem?"
   ]
  },
  {
   "cell_type": "code",
   "execution_count": null,
   "id": "c9955276",
   "metadata": {},
   "outputs": [],
   "source": [
    "## Ihr Code"
   ]
  }
 ],
 "metadata": {
  "kernelspec": {
   "display_name": "venv",
   "language": "python",
   "name": "python3"
  },
  "language_info": {
   "codemirror_mode": {
    "name": "ipython",
    "version": 3
   },
   "file_extension": ".py",
   "mimetype": "text/x-python",
   "name": "python",
   "nbconvert_exporter": "python",
   "pygments_lexer": "ipython3",
   "version": "3.10.4"
  },
  "vscode": {
   "interpreter": {
    "hash": "9adf0104b1edfcb8cf3e43ffb15ba7e0d0fec4a8e6ff79a9d11afae9d42cb47d"
   }
  }
 },
 "nbformat": 4,
 "nbformat_minor": 5
}
