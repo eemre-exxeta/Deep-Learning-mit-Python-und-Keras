{
 "cells": [
  {
   "attachments": {},
   "cell_type": "markdown",
   "metadata": {},
   "source": [
    "# Python - Crash course"
   ]
  },
  {
   "attachments": {},
   "cell_type": "markdown",
   "metadata": {},
   "source": [
    "## 1.) Rechnen"
   ]
  },
  {
   "attachments": {},
   "cell_type": "markdown",
   "metadata": {},
   "source": [
    "1.1.) Die Formel zur Umrechnung von Grad °F zu °C lautet: $°C = \\frac{5}{9} * (°F - 32)$.<br>\n",
    "Schreiben Sie ein Program, das für jeden Wert in Fahrenheit den Wert in Celsius berechnet. Testen Sie es mit 100 °F."
   ]
  },
  {
   "cell_type": "code",
   "execution_count": null,
   "metadata": {},
   "outputs": [],
   "source": []
  },
  {
   "attachments": {},
   "cell_type": "markdown",
   "metadata": {},
   "source": [
    "1.2.) Die Formel zur Umrechnung von Grad Celsius zu Kelvin lautet: $ K = °C + 273,15$.<br>\n",
    "Schreiben sie nun ein Program das beide Formeln verbindet und Fahrenheit in Kelvin umwandelt. Wie viel Kelvin sind 100 Fahrenheit?"
   ]
  },
  {
   "cell_type": "code",
   "execution_count": null,
   "metadata": {},
   "outputs": [],
   "source": []
  },
  {
   "attachments": {},
   "cell_type": "markdown",
   "id": "367b446d",
   "metadata": {},
   "source": [
    "## 2.) Typenkonvertierung\n",
    "### Integer"
   ]
  },
  {
   "attachments": {},
   "cell_type": "markdown",
   "id": "a8f740ac-6bb5-4ffc-8678-aa75c4cc0b61",
   "metadata": {},
   "source": [
    "<p>2.) Versuchen Sie die folgenden Elemente mit `int()` in Integer umzuwandeln.<br>\n",
    "Denken Sie am besten erst darüber nach was passieren wird und testen dann ob Sie richtig lagen.</p>"
   ]
  },
  {
   "attachments": {},
   "cell_type": "markdown",
   "metadata": {},
   "source": [
    "2.1.)"
   ]
  },
  {
   "cell_type": "code",
   "execution_count": null,
   "id": "cd4139bf-25b7-4d22-99d6-43a9c8c6159a",
   "metadata": {},
   "outputs": [],
   "source": [
    "print(int(2.0))"
   ]
  },
  {
   "attachments": {},
   "cell_type": "markdown",
   "metadata": {},
   "source": [
    "2.2.)"
   ]
  },
  {
   "cell_type": "code",
   "execution_count": null,
   "id": "d3ea4574-498d-44f9-be2e-8cfd36623ae7",
   "metadata": {},
   "outputs": [],
   "source": [
    "print(int(2.3))"
   ]
  },
  {
   "attachments": {},
   "cell_type": "markdown",
   "metadata": {},
   "source": [
    "2.3.)"
   ]
  },
  {
   "cell_type": "code",
   "execution_count": null,
   "id": "b933d410-63aa-4ebb-88ed-237559252afa",
   "metadata": {},
   "outputs": [],
   "source": [
    "print(int(2.7))"
   ]
  },
  {
   "attachments": {},
   "cell_type": "markdown",
   "metadata": {},
   "source": [
    "2.4.)"
   ]
  },
  {
   "cell_type": "code",
   "execution_count": null,
   "id": "e9170209-4e9e-48d8-9ef9-0f8d90de6e06",
   "metadata": {},
   "outputs": [],
   "source": [
    "print(int(2e10))"
   ]
  },
  {
   "attachments": {},
   "cell_type": "markdown",
   "metadata": {},
   "source": [
    "2.5.)"
   ]
  },
  {
   "cell_type": "code",
   "execution_count": null,
   "id": "f385caf5-303d-4bc4-aeff-3c31eb97e9e3",
   "metadata": {},
   "outputs": [],
   "source": [
    "print(int(2e-1))"
   ]
  },
  {
   "attachments": {},
   "cell_type": "markdown",
   "metadata": {},
   "source": [
    "2.6.)"
   ]
  },
  {
   "cell_type": "code",
   "execution_count": null,
   "id": "f18bc66c-c3ff-4630-9835-252b747a3e4a",
   "metadata": {},
   "outputs": [],
   "source": [
    "print(int(\"10\"))"
   ]
  },
  {
   "attachments": {},
   "cell_type": "markdown",
   "metadata": {},
   "source": [
    "2.7.)"
   ]
  },
  {
   "cell_type": "code",
   "execution_count": null,
   "id": "23c4a945-0bfd-43f1-a217-c7f5ece727e7",
   "metadata": {},
   "outputs": [],
   "source": [
    "print(int(\"10.0\"))"
   ]
  },
  {
   "attachments": {},
   "cell_type": "markdown",
   "metadata": {},
   "source": [
    "2.8.)"
   ]
  },
  {
   "cell_type": "code",
   "execution_count": null,
   "id": "f3ece999-feb7-4432-b2b2-770a2adbc808",
   "metadata": {},
   "outputs": [],
   "source": [
    "print(int([1]))"
   ]
  },
  {
   "attachments": {},
   "cell_type": "markdown",
   "metadata": {},
   "source": [
    "2.9.)"
   ]
  },
  {
   "cell_type": "code",
   "execution_count": null,
   "id": "a61aaef3-4992-44e0-8701-6c6d78fd83b1",
   "metadata": {},
   "outputs": [],
   "source": [
    "print(int((1)))"
   ]
  },
  {
   "attachments": {},
   "cell_type": "markdown",
   "metadata": {},
   "source": [
    "2.10.)"
   ]
  },
  {
   "cell_type": "code",
   "execution_count": null,
   "id": "263c6af2-8adb-4a0a-9960-08ffc5335009",
   "metadata": {},
   "outputs": [],
   "source": [
    "print(int((1,)))"
   ]
  },
  {
   "attachments": {},
   "cell_type": "markdown",
   "metadata": {},
   "source": [
    "2.11.)"
   ]
  },
  {
   "cell_type": "code",
   "execution_count": null,
   "id": "41debbb3-2841-4688-9e86-5650b4c88232",
   "metadata": {},
   "outputs": [],
   "source": [
    "print(int(True))"
   ]
  },
  {
   "attachments": {},
   "cell_type": "markdown",
   "metadata": {},
   "source": [
    "2.12.)"
   ]
  },
  {
   "cell_type": "code",
   "execution_count": null,
   "id": "f0bd121a-24c5-4900-9e0d-210afbaeb262",
   "metadata": {},
   "outputs": [],
   "source": [
    "print(int(False))"
   ]
  },
  {
   "attachments": {},
   "cell_type": "markdown",
   "id": "6818389a-3492-4614-9a77-4bdbdba8082c",
   "metadata": {},
   "source": [
    "### Floats\n",
    "3.) Versuchen Sie jetzt das gleiche mit den folgenden Elementen, aber konvertieren Sie sie dieses mal zu Dezimalzahlen (floats) mit `float()`."
   ]
  },
  {
   "attachments": {},
   "cell_type": "markdown",
   "metadata": {},
   "source": [
    "3.1.)"
   ]
  },
  {
   "cell_type": "code",
   "execution_count": null,
   "id": "db4735cf-2929-4554-9587-81ab3f368d3f",
   "metadata": {},
   "outputs": [],
   "source": [
    "print(float(2))"
   ]
  },
  {
   "attachments": {},
   "cell_type": "markdown",
   "metadata": {},
   "source": [
    "3.2.)"
   ]
  },
  {
   "cell_type": "code",
   "execution_count": null,
   "id": "ffe3e5cf-8d50-46bb-a7de-648365c039b9",
   "metadata": {},
   "outputs": [],
   "source": [
    "print(float(\"10\"))"
   ]
  },
  {
   "attachments": {},
   "cell_type": "markdown",
   "metadata": {},
   "source": [
    "3.3.)"
   ]
  },
  {
   "cell_type": "code",
   "execution_count": null,
   "id": "6e520061-3dd3-4290-9ed3-26abd240a215",
   "metadata": {},
   "outputs": [],
   "source": [
    "print(float(\"1.5\"))"
   ]
  },
  {
   "attachments": {},
   "cell_type": "markdown",
   "metadata": {},
   "source": [
    "3.4.)"
   ]
  },
  {
   "cell_type": "code",
   "execution_count": null,
   "id": "8efa816c-315b-4c4b-b115-c7a6215920f7",
   "metadata": {},
   "outputs": [],
   "source": [
    "print(float(True))\n",
    "print(float(True))"
   ]
  },
  {
   "attachments": {},
   "cell_type": "markdown",
   "metadata": {},
   "source": [
    "## 4.) If Else Statements"
   ]
  },
  {
   "attachments": {},
   "cell_type": "markdown",
   "id": "900284a1",
   "metadata": {},
   "source": [
    "<p>4.) Schreiben Sie ein if-else Statement das zwei Variablen `a` und `b` vergleicht die beide eine Zahl enthalten.<br>\n",
    "Die größere der beiden Zahlen soll ausgegeben werden mit dem Text '{Zahl} ist größer'.<br>\n",
    "Für den Fall, dass beide gleich groß sind, soll 'Beide Zahlen sind gleich groß' ausgegeben werden.</p> "
   ]
  },
  {
   "cell_type": "code",
   "execution_count": null,
   "metadata": {},
   "outputs": [],
   "source": []
  },
  {
   "attachments": {},
   "cell_type": "markdown",
   "metadata": {},
   "source": [
    "## 5.) Listen, Loops und `range` Funktion"
   ]
  },
  {
   "attachments": {},
   "cell_type": "markdown",
   "id": "2e42db5f-018c-4d5d-96c2-8ec94de0e58c",
   "metadata": {},
   "source": [
    "<p>5.1.) Schreiben Sie eine Liste (das Python-Objekt Liste!), welche die Jahre von ihrem Geburtsjahr bis 2022 enthält.</p>"
   ]
  },
  {
   "cell_type": "code",
   "execution_count": null,
   "metadata": {},
   "outputs": [],
   "source": []
  },
  {
   "attachments": {},
   "cell_type": "markdown",
   "id": "1bd68370-be1e-49e8-82d3-2b5f3a68d7ff",
   "metadata": {},
   "source": [
    "5.2.) Schreiben Sie einen for-Loop der die Zahlenpaare innerhalb der Tuples in `pair_list` miteinander multipliziert und danach ausgiebt.<br>\n",
    "Versuchen Sie dabei Indexierung (Auswahl der Elemente einer Sequenz auf diese weiße: Sequenz[index]) zu vermeiden."
   ]
  },
  {
   "cell_type": "code",
   "execution_count": null,
   "metadata": {},
   "outputs": [],
   "source": [
    "pair_list = [(1, 2), (3, 7), (9, 5)]"
   ]
  },
  {
   "attachments": {},
   "cell_type": "markdown",
   "metadata": {},
   "source": [
    "## 6.) Dictionaries"
   ]
  },
  {
   "attachments": {},
   "cell_type": "markdown",
   "id": "043f450a",
   "metadata": {},
   "source": [
    "6.1.) Erstellen Sie ein dictionary `customers` mit den folgenden Keys:\n",
    "\n",
    "    'customer_id', 'employment_status', 'age', 'location'\n",
    "\n",
    "und den folgenden entsprechenden Values:\n",
    "\n",
    "    [12, 56, 2], [0, 1, 1], [22, 43, 31], ['Berlin', 'Cologne', 'Hamburg']\n",
    "\n",
    "Dictionaries können wie folgt erstellt werden: `{key: value, key:value}`"
   ]
  },
  {
   "cell_type": "code",
   "execution_count": null,
   "metadata": {},
   "outputs": [],
   "source": []
  },
  {
   "attachments": {},
   "cell_type": "markdown",
   "metadata": {},
   "source": [
    "6.2.) Greifen Sie auf die Values des Keys \"age\" zu und berechnen Sie das Durchschnittsalter"
   ]
  },
  {
   "cell_type": "code",
   "execution_count": null,
   "metadata": {},
   "outputs": [],
   "source": []
  }
 ],
 "metadata": {
  "kernelspec": {
   "display_name": "Python 3",
   "language": "python",
   "name": "python3"
  },
  "language_info": {
   "codemirror_mode": {
    "name": "ipython",
    "version": 3
   },
   "file_extension": ".py",
   "mimetype": "text/x-python",
   "name": "python",
   "nbconvert_exporter": "python",
   "pygments_lexer": "ipython3",
   "version": "3.10.4"
  },
  "orig_nbformat": 4,
  "vscode": {
   "interpreter": {
    "hash": "beabba9ec2933537c95471bc7e17992ba010f045cbde302be9faf6117cb82b9f"
   }
  }
 },
 "nbformat": 4,
 "nbformat_minor": 2
}
