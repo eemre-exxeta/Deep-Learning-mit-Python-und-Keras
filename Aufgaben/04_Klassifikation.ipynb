{
 "cells": [
  {
   "attachments": {},
   "cell_type": "markdown",
   "id": "3db00b14",
   "metadata": {},
   "source": [
    "# Multilayer perceptron (MLP)\n",
    "## Klassifikation"
   ]
  },
  {
   "cell_type": "code",
   "execution_count": 1,
   "id": "06a47f54",
   "metadata": {},
   "outputs": [],
   "source": [
    "import tensorflow.keras as keras\n",
    "import pandas as pd\n",
    "import matplotlib as mpl\n",
    "import matplotlib.pyplot as plt\n",
    "import seaborn as sns\n",
    "\n",
    "from sklearn.model_selection import train_test_split\n",
    "from sklearn.preprocessing import StandardScaler, LabelEncoder"
   ]
  },
  {
   "cell_type": "code",
   "execution_count": null,
   "id": "728c0219",
   "metadata": {},
   "outputs": [],
   "source": [
    "%matplotlib inline\n",
    "sns.set_theme(context='notebook', style='whitegrid')"
   ]
  },
  {
   "cell_type": "markdown",
   "id": "30886c87",
   "metadata": {},
   "source": [
    "#### Funktionen zum Ploten der Trainingsergebnisse"
   ]
  },
  {
   "cell_type": "code",
   "execution_count": null,
   "id": "a69cdcad",
   "metadata": {},
   "outputs": [],
   "source": [
    "def plot_results(epochs, history, metric='accuracy'):\n",
    "    f, axes = plt.subplots(1,2, figsize=(12,4))\n",
    "\n",
    "    ax = axes[0]\n",
    "    sns.lineplot(x=range(epochs), y=history.history['loss'], label='Training', ax=ax)\n",
    "    sns.lineplot(x=range(epochs), y=history.history['val_loss'], label='Validation', ax=ax)\n",
    "    ax.set_xlabel(\"Epochs\")\n",
    "    ax.set_ylabel(\"Loss\")\n",
    "\n",
    "    ax = axes[1]\n",
    "    sns.lineplot(x=range(epochs), y=history.history[metric], label=f'Training', ax=ax)\n",
    "    sns.lineplot(x=range(epochs), y=history.history[f'val_{metric}'], label=f'Validation', ax=ax)\n",
    "    ax.set_xlabel(\"Epochs\")\n",
    "    ax.set_ylabel(metric)\n",
    "\n",
    "    f.tight_layout()\n",
    "    plt.show()"
   ]
  },
  {
   "cell_type": "markdown",
   "id": "ad8d49fd",
   "metadata": {},
   "source": [
    "## Daten einlesen"
   ]
  },
  {
   "cell_type": "code",
   "execution_count": null,
   "id": "6c6d8f10",
   "metadata": {},
   "outputs": [],
   "source": [
    "iris_df = sns.load_dataset(\"iris\")"
   ]
  },
  {
   "cell_type": "code",
   "execution_count": null,
   "id": "33050af3",
   "metadata": {},
   "outputs": [],
   "source": [
    "iris_df"
   ]
  },
  {
   "cell_type": "code",
   "execution_count": null,
   "id": "1d64103b",
   "metadata": {},
   "outputs": [],
   "source": [
    "f = plt.figure(figsize=(10, 6))\n",
    "\n",
    "sns.scatterplot(data=iris_df, x=\"petal_length\", y=\"petal_width\", hue=\"species\")\n",
    "\n",
    "f.tight_layout()\n",
    "plt.show()"
   ]
  },
  {
   "attachments": {},
   "cell_type": "markdown",
   "id": "dbf8e6c5",
   "metadata": {},
   "source": [
    "## Datenvorverarbeitung (Data preprocessing)"
   ]
  },
  {
   "cell_type": "markdown",
   "id": "b318b6af",
   "metadata": {},
   "source": [
    "Führen Sie einen Train-Test Split aus. Übernehmen Sie hierfür species als target und fügen Sie die restlichen Spalten als Features ein."
   ]
  },
  {
   "cell_type": "code",
   "execution_count": null,
   "id": "ec10d459",
   "metadata": {},
   "outputs": [],
   "source": [
    "X = # Code\n",
    "y = # Code"
   ]
  },
  {
   "cell_type": "markdown",
   "id": "70702c19",
   "metadata": {},
   "source": [
    "Führen Sie nun ein LabelEncoding für Ihr Target und eine Z-Transformation (StandardScaler) für Ihre Features durch."
   ]
  },
  {
   "cell_type": "code",
   "execution_count": null,
   "id": "d8c6d26c",
   "metadata": {},
   "outputs": [],
   "source": [
    "# Code"
   ]
  },
  {
   "cell_type": "code",
   "execution_count": null,
   "id": "5e86c4c8",
   "metadata": {},
   "outputs": [],
   "source": [
    "# Code"
   ]
  },
  {
   "cell_type": "code",
   "execution_count": null,
   "id": "543dc136",
   "metadata": {},
   "outputs": [],
   "source": [
    "X_train, X_test, y_train, y_test = train_test_split(X,y,test_size=0.2, random_state=5)"
   ]
  },
  {
   "cell_type": "markdown",
   "id": "acd1c93a",
   "metadata": {},
   "source": [
    "## Modell training"
   ]
  },
  {
   "cell_type": "markdown",
   "id": "3da417d5",
   "metadata": {},
   "source": [
    "Bilden Sie nun das Sequentielle Modell. Wie vorher können Sie gerne den Code im Vorschau-Notebook nachschauen. Achten Sie auf die Änderung im Output-Layer (activation='softmax' statt 'linear'). Versuchen Sie die Anzahl Neuronen und Layer zu ändern bis Sie auf eine Accuracy über 80% kommen."
   ]
  },
  {
   "cell_type": "code",
   "execution_count": null,
   "id": "7961098d",
   "metadata": {},
   "outputs": [],
   "source": [
    "model = # Code"
   ]
  },
  {
   "cell_type": "code",
   "execution_count": null,
   "id": "21d6da3f",
   "metadata": {},
   "outputs": [],
   "source": [
    "BATCHSIZE = 32\n",
    "EPOCHS = 30\n",
    "LR = 0.01"
   ]
  },
  {
   "cell_type": "code",
   "execution_count": null,
   "id": "3ddd1743",
   "metadata": {},
   "outputs": [],
   "source": [
    "model.compile(loss='sparse_categorical_crossentropy', optimizer=keras.optimizers.SGD(learning_rate=LR), metrics=[\"accuracy\"])"
   ]
  },
  {
   "cell_type": "code",
   "execution_count": null,
   "id": "dfb7ca82",
   "metadata": {},
   "outputs": [],
   "source": [
    "history = model.fit(X_train,y_train, batch_size=BATCHSIZE, epochs=EPOCHS, validation_split=0.2)"
   ]
  },
  {
   "cell_type": "code",
   "execution_count": null,
   "id": "34f9a728",
   "metadata": {},
   "outputs": [],
   "source": [
    "plot_results(EPOCHS, history)"
   ]
  },
  {
   "attachments": {},
   "cell_type": "markdown",
   "id": "05e47976",
   "metadata": {},
   "source": [
    "## Modell evaluation"
   ]
  },
  {
   "cell_type": "code",
   "execution_count": null,
   "id": "17432736",
   "metadata": {},
   "outputs": [],
   "source": [
    "model.evaluate(X_test,y_test)"
   ]
  },
  {
   "cell_type": "code",
   "execution_count": null,
   "id": "2ef277f2",
   "metadata": {},
   "outputs": [],
   "source": []
  }
 ],
 "metadata": {
  "kernelspec": {
   "display_name": "venv",
   "language": "python",
   "name": "python3"
  },
  "language_info": {
   "codemirror_mode": {
    "name": "ipython",
    "version": 3
   },
   "file_extension": ".py",
   "mimetype": "text/x-python",
   "name": "python",
   "nbconvert_exporter": "python",
   "pygments_lexer": "ipython3",
   "version": "3.10.4"
  },
  "vscode": {
   "interpreter": {
    "hash": "9adf0104b1edfcb8cf3e43ffb15ba7e0d0fec4a8e6ff79a9d11afae9d42cb47d"
   }
  }
 },
 "nbformat": 4,
 "nbformat_minor": 5
}
