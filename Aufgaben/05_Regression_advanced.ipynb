{
 "cells": [
  {
   "attachments": {},
   "cell_type": "markdown",
   "metadata": {},
   "source": [
    "# Multilayer perceptron (MLP)\n",
    "## Regression advanced"
   ]
  },
  {
   "cell_type": "code",
   "execution_count": 1,
   "metadata": {},
   "outputs": [],
   "source": [
    "import os\n",
    "\n",
    "import tensorflow as tf\n",
    "from tensorflow import keras\n",
    "\n",
    "import numpy as np\n",
    "import pandas as pd\n",
    "import matplotlib.pyplot as plt\n",
    "import seaborn as sns\n",
    "\n",
    "from sklearn.model_selection import train_test_split\n",
    "from sklearn.metrics import mean_squared_error, mean_absolute_error\n",
    "from sklearn.preprocessing import StandardScaler, MinMaxScaler"
   ]
  },
  {
   "cell_type": "code",
   "execution_count": null,
   "metadata": {},
   "outputs": [],
   "source": [
    "%matplotlib inline\n",
    "sns.set_theme(context='notebook', style='whitegrid')"
   ]
  },
  {
   "attachments": {},
   "cell_type": "markdown",
   "metadata": {},
   "source": [
    "#### Funktionen zum Ploten der Trainingsergebnisse"
   ]
  },
  {
   "cell_type": "code",
   "execution_count": null,
   "metadata": {},
   "outputs": [],
   "source": [
    "def plot_results(epochs, history, metric='mean_absolute_error'):\n",
    "    f, axes = plt.subplots(1,2, figsize=(12,4))\n",
    "\n",
    "    ax = axes[0]\n",
    "    sns.lineplot(x=range(epochs), y=history.history['loss'], label='Training', ax=ax)\n",
    "    sns.lineplot(x=range(epochs), y=history.history['val_loss'], label='Validation', ax=ax)\n",
    "    ax.set_xlabel(\"Epochs\")\n",
    "    ax.set_ylabel(\"Loss\")\n",
    "\n",
    "    ax = axes[1]\n",
    "    sns.lineplot(x=range(epochs), y=history.history[metric], label=f'Training', ax=ax)\n",
    "    sns.lineplot(x=range(epochs), y=history.history[f'val_{metric}'], label=f'Validation', ax=ax)\n",
    "    ax.set_xlabel(\"Epochs\")\n",
    "    ax.set_ylabel(metric)\n",
    "\n",
    "    f.tight_layout()\n",
    "    plt.show()"
   ]
  },
  {
   "cell_type": "markdown",
   "metadata": {},
   "source": [
    "### Daten einlesen"
   ]
  },
  {
   "cell_type": "code",
   "execution_count": null,
   "metadata": {},
   "outputs": [],
   "source": [
    "# adjust to correct path if necessary\n",
    "df_rental_bikes = pd.read_csv(\"../Datasets/rental_bikes.csv\")"
   ]
  },
  {
   "cell_type": "markdown",
   "metadata": {},
   "source": [
    "### Überblick über Daten bekommen"
   ]
  },
  {
   "cell_type": "code",
   "execution_count": null,
   "metadata": {},
   "outputs": [],
   "source": [
    "df_rental_bikes.head()"
   ]
  },
  {
   "cell_type": "code",
   "execution_count": null,
   "metadata": {},
   "outputs": [],
   "source": [
    "df_rental_bikes.describe().round(2)"
   ]
  },
  {
   "cell_type": "markdown",
   "metadata": {},
   "source": [
    "### Daten vorbereiten"
   ]
  },
  {
   "cell_type": "markdown",
   "metadata": {},
   "source": [
    "#### Wochentag als Merkmal anlegen"
   ]
  },
  {
   "cell_type": "code",
   "execution_count": null,
   "metadata": {},
   "outputs": [],
   "source": [
    "df_rental_bikes['weekday'] = pd.to_datetime(df_rental_bikes.Date, dayfirst=True ).dt.weekday"
   ]
  },
  {
   "cell_type": "markdown",
   "metadata": {},
   "source": [
    "#### Zielvariable und nicht benötigte Variable entfernen"
   ]
  },
  {
   "cell_type": "code",
   "execution_count": null,
   "metadata": {},
   "outputs": [],
   "source": [
    "df_rental_bikes_features = df_rental_bikes.drop(columns=['Rented Bike Count', 'Date'])"
   ]
  },
  {
   "cell_type": "markdown",
   "metadata": {},
   "source": [
    "#### Kategorische Variablen in Dummyvariablen umwandeln"
   ]
  },
  {
   "cell_type": "code",
   "execution_count": null,
   "metadata": {},
   "outputs": [],
   "source": [
    "df_rental_bikes_features = pd.get_dummies(df_rental_bikes_features, columns=['Seasons', 'Holiday', 'Functioning Day'], drop_first=True)"
   ]
  },
  {
   "cell_type": "code",
   "execution_count": null,
   "metadata": {},
   "outputs": [],
   "source": [
    "df_rental_bikes_features"
   ]
  },
  {
   "attachments": {},
   "cell_type": "markdown",
   "metadata": {},
   "source": [
    "### Standardisieren"
   ]
  },
  {
   "cell_type": "code",
   "execution_count": null,
   "metadata": {},
   "outputs": [],
   "source": [
    "scaler = StandardScaler()\n",
    "min_max_scaler = MinMaxScaler()"
   ]
  },
  {
   "cell_type": "code",
   "execution_count": null,
   "metadata": {},
   "outputs": [],
   "source": [
    "df_rental_bikes_features.loc[:, \"Hour\": \"Solar Radiation (MJ/m2)\"] = scaler.fit_transform(df_rental_bikes_features.loc[:, \"Hour\": \"Solar Radiation (MJ/m2)\"])\n",
    "df_rental_bikes_features.loc[:, [\"Rainfall(mm)\", \"Snowfall (cm)\"]] = min_max_scaler.fit_transform(df_rental_bikes_features.loc[:, [\"Rainfall(mm)\", \"Snowfall (cm)\"]])"
   ]
  },
  {
   "cell_type": "code",
   "execution_count": null,
   "metadata": {},
   "outputs": [],
   "source": [
    "df_rental_bikes_features.loc[:, \"Hour\": \"weekday\"]"
   ]
  },
  {
   "cell_type": "markdown",
   "metadata": {},
   "source": [
    "#### Für spätere Validierung Daten in Train- und Testset aufteilen"
   ]
  },
  {
   "cell_type": "code",
   "execution_count": null,
   "metadata": {},
   "outputs": [],
   "source": [
    "RANDOM_STATE = 42\n",
    "\n",
    "keras.utils.set_random_seed(RANDOM_STATE)"
   ]
  },
  {
   "cell_type": "code",
   "execution_count": null,
   "metadata": {},
   "outputs": [],
   "source": [
    "X = df_rental_bikes_features.to_numpy()\n",
    "y = df_rental_bikes['Rented Bike Count'].to_numpy()"
   ]
  },
  {
   "cell_type": "code",
   "execution_count": null,
   "metadata": {},
   "outputs": [],
   "source": [
    "X_train, X_test, y_train, y_test = train_test_split(X, y, test_size=0.33, random_state=RANDOM_STATE)"
   ]
  },
  {
   "attachments": {},
   "cell_type": "markdown",
   "metadata": {},
   "source": [
    "# Aufgabe\n",
    "## Model Setup\n",
    "Wählen Sie nun die passenden Layer aus. Beginnen Sie am besten mit einem einfachen Modell und erweitern Sie es nach und nach.\n",
    "Mögliche Layer sind:\n",
    "- Dense\n",
    "- Dropout\n",
    "- BatchNormalization\n",
    "\n",
    "Weitere mögliche Erweiterungen sind:\n",
    "- Alternative Wahl des Optimizers. Hier ist eine Liste möglicher Optionen: https://keras.io/api/optimizers/#available-optimizers\n",
    "- Weight Decay mit `keras.regularizers.l2()`\n",
    "- Early Stopping Callback mit `keras.EarlyStopping()`\n",
    "\n",
    "Außerdem können Sie Hyperparamter anpassen:\n",
    "- Learning Rate des Optimizers\n",
    "- Activation Functions der Hidden Layer `(\"tanh\", \"relu\", \"elu\")`\n",
    "- Anzahl Neuronen der Layer\n",
    "- Batch size\n",
    "- Epochs"
   ]
  },
  {
   "cell_type": "code",
   "execution_count": null,
   "metadata": {},
   "outputs": [],
   "source": [
    "input_dim = X_train.shape[1]"
   ]
  },
  {
   "cell_type": "code",
   "execution_count": null,
   "metadata": {},
   "outputs": [],
   "source": [
    "model = keras.models.Sequential([\n",
    "    keras.layers.Input(shape=input_dim),\n",
    "    #################################################\n",
    "    #\n",
    "    # code for layers\n",
    "    #\n",
    "    #################################################\n",
    "    keras.layers.Dense(1, activation='linear'),\n",
    "])"
   ]
  },
  {
   "cell_type": "code",
   "execution_count": null,
   "id": "7ab28adb",
   "metadata": {},
   "outputs": [],
   "source": [
    "LR = 1e-2\n",
    "BATCHSIZE = 64\n",
    "EPOCHS = 50"
   ]
  },
  {
   "cell_type": "code",
   "execution_count": null,
   "id": "1f1226d7",
   "metadata": {},
   "outputs": [],
   "source": [
    "model.compile(\n",
    "    optimizer=keras.optimizers.SGD(learning_rate=LR),\n",
    "    loss=keras.losses.MeanSquaredError(),               ## Wird als Metrik für das Netzwerk verwendet um Error zu berechnen\n",
    "    metrics=keras.losses.MeanAbsoluteError(),           ## Nur für Monitoring, intern wird nichts mit diesem Wert gemacht\n",
    ")"
   ]
  },
  {
   "cell_type": "code",
   "execution_count": null,
   "id": "fbe2ee21",
   "metadata": {},
   "outputs": [],
   "source": [
    "model.summary()"
   ]
  },
  {
   "cell_type": "code",
   "execution_count": null,
   "id": "24573f8e",
   "metadata": {},
   "outputs": [],
   "source": [
    "earlystopping = None # Hier ergänzen!\n",
    "\n",
    "history = model.fit(\n",
    "    x=X_train, y=y_train,\n",
    "    batch_size=BATCHSIZE,\n",
    "    epochs=EPOCHS,\n",
    "    validation_split=0.2,\n",
    "    callbacks=[earlystopping]  # Callbacks werden als Liste zu fit() hinzugefuegt\n",
    ")"
   ]
  },
  {
   "cell_type": "code",
   "execution_count": null,
   "metadata": {},
   "outputs": [],
   "source": [
    "plot_results(len(history.epoch), history)"
   ]
  },
  {
   "attachments": {},
   "cell_type": "markdown",
   "metadata": {},
   "source": [
    "### Validierung\n",
    "\n",
    "<img src=\"../Bilder/rmse.png\" alt=\"Root Mean Squared Error\" height=\"100\"/>\n",
    "\n",
    "Überprüfen Sie im letzten Schritt, wie gut Ihr Modell Vorhersagen machen kann anhand des RMSE (Root Mean Squared Error) und vergleichen Sie es damit den Durchschnitt vorherzusagen. "
   ]
  },
  {
   "cell_type": "code",
   "execution_count": null,
   "metadata": {},
   "outputs": [],
   "source": [
    "y_pred = model.predict(X_test)"
   ]
  },
  {
   "attachments": {},
   "cell_type": "markdown",
   "metadata": {},
   "source": [
    "#### Baseline Ergebnis"
   ]
  },
  {
   "cell_type": "code",
   "execution_count": null,
   "metadata": {},
   "outputs": [],
   "source": [
    "y_mean = np.repeat(np.mean(y_train), len(y_test))\n",
    "\n",
    "rmse_baseline = mean_squared_error(y_test, y_mean, squared=False).round(2)\n",
    "mae_baseline = mean_absolute_error(y_test, y_mean).round(2)\n",
    "\n",
    "\n",
    "print(f\"RMSE: {rmse_baseline}\")\n",
    "print(f\"MAE: {mae_baseline}\")"
   ]
  },
  {
   "attachments": {},
   "cell_type": "markdown",
   "metadata": {},
   "source": [
    "#### Modell Ergebnis"
   ]
  },
  {
   "cell_type": "code",
   "execution_count": null,
   "metadata": {},
   "outputs": [],
   "source": [
    "y_pred = model.predict(X_test)\n",
    "\n",
    "rmse_test = mean_squared_error(y_test, y_pred, squared=False).round(2)\n",
    "mae_test = mean_absolute_error(y_test, y_pred).round(2)\n",
    "\n",
    "print(f\"RMSE: {rmse_test}\")\n",
    "print(f\"MAE: {mae_test}\")"
   ]
  },
  {
   "cell_type": "code",
   "execution_count": null,
   "metadata": {},
   "outputs": [],
   "source": []
  }
 ],
 "metadata": {
  "kernelspec": {
   "display_name": "venv",
   "language": "python",
   "name": "python3"
  },
  "language_info": {
   "codemirror_mode": {
    "name": "ipython",
    "version": 3
   },
   "file_extension": ".py",
   "mimetype": "text/x-python",
   "name": "python",
   "nbconvert_exporter": "python",
   "pygments_lexer": "ipython3",
   "version": "3.10.4"
  },
  "orig_nbformat": 4,
  "vscode": {
   "interpreter": {
    "hash": "9adf0104b1edfcb8cf3e43ffb15ba7e0d0fec4a8e6ff79a9d11afae9d42cb47d"
   }
  }
 },
 "nbformat": 4,
 "nbformat_minor": 2
}
