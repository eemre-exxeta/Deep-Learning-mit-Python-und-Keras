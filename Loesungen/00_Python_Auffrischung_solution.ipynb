{
 "cells": [
  {
   "attachments": {},
   "cell_type": "markdown",
   "metadata": {},
   "source": [
    "# Python - Crash course"
   ]
  },
  {
   "attachments": {},
   "cell_type": "markdown",
   "metadata": {},
   "source": [
    "## 1.) Rechnen"
   ]
  },
  {
   "attachments": {},
   "cell_type": "markdown",
   "metadata": {},
   "source": [
    "1.1.) Die Formel zur Umrechnung von Grad °F zu °C lautet: $°C = \\frac{5}{9} * (°F - 32)$.<br>\n",
    "Schreiben Sie ein Program, das für jeden Wert in Fahrenheit den Wert in Celsius berechnet. Testen Sie es mit 100 °F."
   ]
  },
  {
   "cell_type": "code",
   "execution_count": 25,
   "id": "987b601c",
   "metadata": {},
   "outputs": [
    {
     "data": {
      "text/plain": [
       "37.77777777777778"
      ]
     },
     "execution_count": 25,
     "metadata": {},
     "output_type": "execute_result"
    }
   ],
   "source": [
    "fahrenheit = 100\n",
    "celsius = 5/9 * (fahrenheit - 32)\n",
    "celsius"
   ]
  },
  {
   "attachments": {},
   "cell_type": "markdown",
   "metadata": {},
   "source": [
    "1.2.) Die Formel zur Umrechnung von Grad Celsius zu Kelvin lautet: $ K = °C + 273,15$.<br>\n",
    "Schreiben sie nun ein Program das beide Formeln verbindet und Fahrenheit in Kelvin umwandelt. Wie viel Kelvin sind 100 Fahrenheit?"
   ]
  },
  {
   "cell_type": "code",
   "execution_count": 26,
   "id": "964a9065",
   "metadata": {},
   "outputs": [
    {
     "name": "stdout",
     "output_type": "stream",
     "text": [
      "310.92777777777775\n"
     ]
    }
   ],
   "source": [
    "celsius = 5/9 * (fahrenheit - 32)\n",
    "kelvin = celsius + 273.15\n",
    "print(kelvin)\n",
    "\n",
    "# alternative\n",
    "# kelvin = 5/9 * (fahrenheit - 32) + 273.15\n",
    "# print(kelvin)"
   ]
  },
  {
   "attachments": {},
   "cell_type": "markdown",
   "id": "367b446d",
   "metadata": {},
   "source": [
    "## 2.) Typenkonvertierung\n",
    "### Integer"
   ]
  },
  {
   "attachments": {},
   "cell_type": "markdown",
   "id": "a8f740ac-6bb5-4ffc-8678-aa75c4cc0b61",
   "metadata": {},
   "source": [
    "<p>2.) Versuchen Sie die folgenden Elemente mit `int()` in Integer umzuwandeln.<br>\n",
    "Denken Sie am besten erst darüber nach was passieren wird und testen dann ob Sie richtig lagen.</p>"
   ]
  },
  {
   "attachments": {},
   "cell_type": "markdown",
   "metadata": {},
   "source": [
    "2.1.)"
   ]
  },
  {
   "cell_type": "code",
   "execution_count": 27,
   "id": "cd4139bf-25b7-4d22-99d6-43a9c8c6159a",
   "metadata": {},
   "outputs": [
    {
     "name": "stdout",
     "output_type": "stream",
     "text": [
      "2\n"
     ]
    }
   ],
   "source": [
    "print(int(2.0))"
   ]
  },
  {
   "attachments": {},
   "cell_type": "markdown",
   "metadata": {},
   "source": [
    "2.2.)"
   ]
  },
  {
   "cell_type": "code",
   "execution_count": 28,
   "id": "d3ea4574-498d-44f9-be2e-8cfd36623ae7",
   "metadata": {},
   "outputs": [
    {
     "name": "stdout",
     "output_type": "stream",
     "text": [
      "2\n"
     ]
    }
   ],
   "source": [
    "# Notice how Python always converts to the lower int value (floor)\n",
    "print(int(2.3))"
   ]
  },
  {
   "attachments": {},
   "cell_type": "markdown",
   "metadata": {},
   "source": [
    "2.3.)"
   ]
  },
  {
   "cell_type": "code",
   "execution_count": 29,
   "id": "b933d410-63aa-4ebb-88ed-237559252afa",
   "metadata": {},
   "outputs": [
    {
     "name": "stdout",
     "output_type": "stream",
     "text": [
      "2\n"
     ]
    }
   ],
   "source": [
    "# It does not round when you convert a float to an integer\n",
    "print(int(2.7))"
   ]
  },
  {
   "attachments": {},
   "cell_type": "markdown",
   "metadata": {},
   "source": [
    "2.4.)"
   ]
  },
  {
   "cell_type": "code",
   "execution_count": 30,
   "id": "e9170209-4e9e-48d8-9ef9-0f8d90de6e06",
   "metadata": {},
   "outputs": [
    {
     "name": "stdout",
     "output_type": "stream",
     "text": [
      "20000000000\n"
     ]
    }
   ],
   "source": [
    "# Exponential numbers are floats. So converting this to an int is the same as converting 20000000000.0\n",
    "print(int(2e10))"
   ]
  },
  {
   "attachments": {},
   "cell_type": "markdown",
   "metadata": {},
   "source": [
    "2.5.)"
   ]
  },
  {
   "cell_type": "code",
   "execution_count": 31,
   "id": "f385caf5-303d-4bc4-aeff-3c31eb97e9e3",
   "metadata": {},
   "outputs": [
    {
     "name": "stdout",
     "output_type": "stream",
     "text": [
      "0\n"
     ]
    }
   ],
   "source": [
    "# And as before a float converts to the floor of the number, here: 0.2 -> 0\n",
    "print(int(2e-1))"
   ]
  },
  {
   "attachments": {},
   "cell_type": "markdown",
   "metadata": {},
   "source": [
    "2.6.)"
   ]
  },
  {
   "cell_type": "code",
   "execution_count": 32,
   "id": "f18bc66c-c3ff-4630-9835-252b747a3e4a",
   "metadata": {},
   "outputs": [
    {
     "name": "stdout",
     "output_type": "stream",
     "text": [
      "10\n"
     ]
    }
   ],
   "source": [
    "# Integer numbers of the string type can be converted to the int type\n",
    "print(int(\"10\"))"
   ]
  },
  {
   "attachments": {},
   "cell_type": "markdown",
   "metadata": {},
   "source": [
    "2.7.)"
   ]
  },
  {
   "cell_type": "code",
   "execution_count": 33,
   "id": "23c4a945-0bfd-43f1-a217-c7f5ece727e7",
   "metadata": {},
   "outputs": [
    {
     "ename": "ValueError",
     "evalue": "invalid literal for int() with base 10: '10.0'",
     "output_type": "error",
     "traceback": [
      "\u001b[1;31m---------------------------------------------------------------------------\u001b[0m",
      "\u001b[1;31mValueError\u001b[0m                                Traceback (most recent call last)",
      "Cell \u001b[1;32mIn[33], line 2\u001b[0m\n\u001b[0;32m      1\u001b[0m \u001b[39m# For float numbers of the string type, however, this is not the case\u001b[39;00m\n\u001b[1;32m----> 2\u001b[0m \u001b[39mprint\u001b[39m(\u001b[39mint\u001b[39;49m(\u001b[39m\"\u001b[39;49m\u001b[39m10.0\u001b[39;49m\u001b[39m\"\u001b[39;49m))\n",
      "\u001b[1;31mValueError\u001b[0m: invalid literal for int() with base 10: '10.0'"
     ]
    }
   ],
   "source": [
    "# For float numbers of the string type, however, this is not the case\n",
    "print(int(\"10.0\"))"
   ]
  },
  {
   "attachments": {},
   "cell_type": "markdown",
   "metadata": {},
   "source": [
    "2.8.)"
   ]
  },
  {
   "cell_type": "code",
   "execution_count": null,
   "id": "f3ece999-feb7-4432-b2b2-770a2adbc808",
   "metadata": {},
   "outputs": [],
   "source": [
    "# Perhaps unsurprisingly, lists, even with only one element, cannot be converted to integers\n",
    "print(int([1]))"
   ]
  },
  {
   "attachments": {},
   "cell_type": "markdown",
   "metadata": {},
   "source": [
    "2.9.)"
   ]
  },
  {
   "cell_type": "code",
   "execution_count": null,
   "id": "a61aaef3-4992-44e0-8701-6c6d78fd83b1",
   "metadata": {},
   "outputs": [],
   "source": [
    "# This works, because for Python 1 == (1), both are already integers. The parentheses do not change anything in this case\n",
    "print(int((1)))"
   ]
  },
  {
   "attachments": {},
   "cell_type": "markdown",
   "metadata": {},
   "source": [
    "2.10.)"
   ]
  },
  {
   "cell_type": "code",
   "execution_count": null,
   "id": "263c6af2-8adb-4a0a-9960-08ffc5335009",
   "metadata": {},
   "outputs": [],
   "source": [
    "# Adding the comma, however, makes (1,) a tuple which cannot be converted to an int\n",
    "print(int((1,)))"
   ]
  },
  {
   "attachments": {},
   "cell_type": "markdown",
   "metadata": {},
   "source": [
    "2.11.)"
   ]
  },
  {
   "cell_type": "code",
   "execution_count": null,
   "id": "41debbb3-2841-4688-9e86-5650b4c88232",
   "metadata": {},
   "outputs": [],
   "source": [
    "# Since the boolean True is also considered to be 1 (for example True + True == 2 is also True) it can be converted to an int. \n",
    "print(int(True))"
   ]
  },
  {
   "attachments": {},
   "cell_type": "markdown",
   "metadata": {},
   "source": [
    "2.12.)"
   ]
  },
  {
   "cell_type": "code",
   "execution_count": null,
   "id": "f0bd121a-24c5-4900-9e0d-210afbaeb262",
   "metadata": {},
   "outputs": [],
   "source": [
    "# The same is true for False\n",
    "print(int(False))"
   ]
  },
  {
   "attachments": {},
   "cell_type": "markdown",
   "id": "6818389a-3492-4614-9a77-4bdbdba8082c",
   "metadata": {},
   "source": [
    "### Floats\n",
    "3.) Versuchen Sie jetzt das gleiche mit den folgenden Elementen, aber konvertieren Sie sie dieses mal zu Dezimalzahlen (floats) mit `float()`."
   ]
  },
  {
   "attachments": {},
   "cell_type": "markdown",
   "metadata": {},
   "source": [
    "3.1.)"
   ]
  },
  {
   "cell_type": "code",
   "execution_count": null,
   "id": "db4735cf-2929-4554-9587-81ab3f368d3f",
   "metadata": {},
   "outputs": [],
   "source": [
    "print(float(2))"
   ]
  },
  {
   "attachments": {},
   "cell_type": "markdown",
   "metadata": {},
   "source": [
    "3.2.)"
   ]
  },
  {
   "cell_type": "code",
   "execution_count": null,
   "id": "ffe3e5cf-8d50-46bb-a7de-648365c039b9",
   "metadata": {},
   "outputs": [],
   "source": [
    "print(float(\"10\"))"
   ]
  },
  {
   "attachments": {},
   "cell_type": "markdown",
   "metadata": {},
   "source": [
    "3.3.)"
   ]
  },
  {
   "cell_type": "code",
   "execution_count": null,
   "id": "6e520061-3dd3-4290-9ed3-26abd240a215",
   "metadata": {},
   "outputs": [],
   "source": [
    "# This might be the only noteable difference to the int conversion. Yet maybe not very suprising that a float inside a string\n",
    "# actually can be converted to a float type.\n",
    "print(float(\"1.5\"))"
   ]
  },
  {
   "attachments": {},
   "cell_type": "markdown",
   "metadata": {},
   "source": [
    "3.4.)"
   ]
  },
  {
   "cell_type": "code",
   "execution_count": null,
   "id": "8efa816c-315b-4c4b-b115-c7a6215920f7",
   "metadata": {},
   "outputs": [],
   "source": [
    "print(float(True))"
   ]
  },
  {
   "attachments": {},
   "cell_type": "markdown",
   "metadata": {},
   "source": [
    "## 4.) If Else Statements"
   ]
  },
  {
   "attachments": {},
   "cell_type": "markdown",
   "id": "900284a1",
   "metadata": {},
   "source": [
    "<p>4.) Schreiben Sie ein if-else Statement das zwei Variablen `a` und `b` vergleicht die beide eine Zahl enthalten.<br>\n",
    "Die größere der beiden Zahlen soll ausgegeben werden mit dem Text '{Zahl} ist größer'.<br>\n",
    "Für den Fall, dass beide gleich groß sind, soll 'Beide Zahlen sind gleich groß' ausgegeben werden.</p> "
   ]
  },
  {
   "cell_type": "code",
   "execution_count": null,
   "id": "32488934",
   "metadata": {},
   "outputs": [],
   "source": [
    "a = 5\n",
    "b = 10\n",
    "\n",
    "if a > b:\n",
    "    print(f'{a} ist größer')\n",
    "elif a == b:\n",
    "    print(f'Beide Zahlen sind gleich groß')\n",
    "else:\n",
    "    print(f'{b} ist größer')"
   ]
  },
  {
   "attachments": {},
   "cell_type": "markdown",
   "metadata": {},
   "source": [
    "## 5.) Listen, Loops und `range` Funktion"
   ]
  },
  {
   "cell_type": "markdown",
   "id": "2e42db5f-018c-4d5d-96c2-8ec94de0e58c",
   "metadata": {},
   "source": [
    "<p>5.1.) Schreiben Sie eine Liste (das Python-Objekt Liste!), welche die Jahre von ihrem Geburtsjahr bis 2022 enthält.</p>"
   ]
  },
  {
   "cell_type": "code",
   "execution_count": null,
   "id": "a183e5a2-790d-4f43-b8e0-e61ea137825f",
   "metadata": {},
   "outputs": [],
   "source": [
    "L = []\n",
    "for i in range(1993,2022):\n",
    "    L.append(i)\n",
    "\n",
    "# alternative\n",
    "# L = list(range(1993,2022))\n",
    "\n",
    "print(L)"
   ]
  },
  {
   "attachments": {},
   "cell_type": "markdown",
   "id": "1bd68370-be1e-49e8-82d3-2b5f3a68d7ff",
   "metadata": {},
   "source": [
    "5.2.) Schreiben Sie einen for-Loop der die Zahlenpaare innerhalb der Tuples in `pair_list` miteinander multipliziert und danach ausgiebt.<br>\n",
    "Versuchen Sie dabei Indexierung (Auswahl der Elemente einer Sequenz auf diese weiße: Sequenz[index]) zu vermeiden."
   ]
  },
  {
   "cell_type": "code",
   "execution_count": null,
   "id": "0ba7ceaa-538a-4c81-82cf-a9216dd3ad55",
   "metadata": {},
   "outputs": [],
   "source": [
    "pair_list = [(1, 2), (3, 7), (9, 5)]\n",
    "\n",
    "for x, y in pair_list:\n",
    "    print(x * y)\n"
   ]
  },
  {
   "attachments": {},
   "cell_type": "markdown",
   "metadata": {},
   "source": [
    "## 6.) Dictionaries"
   ]
  },
  {
   "attachments": {},
   "cell_type": "markdown",
   "id": "043f450a",
   "metadata": {},
   "source": [
    "6.1.) Erstellen Sie ein dictionary `customers` mit den folgenden Keys:\n",
    "\n",
    "    'customer_id', 'employment_status', 'age', 'location'\n",
    "\n",
    "und den folgenden entsprechenden Values:\n",
    "\n",
    "    [12, 56, 2], [0, 1, 1], [22, 43, 31], ['Berlin', 'Cologne', 'Hamburg']\n",
    "\n",
    "Dictionaries können wie folgt erstellt werden: `{key: value, key:value}`"
   ]
  },
  {
   "cell_type": "code",
   "execution_count": null,
   "id": "d0139175",
   "metadata": {},
   "outputs": [],
   "source": [
    "customers = {'customer_id': [12, 56, 2],\n",
    "             'employment_status': [0, 1, 1],\n",
    "             'age': [22, 43, 31],\n",
    "             'location': ['Berlin', 'Cologne', 'Hamburg']}\n",
    "customers\n",
    "\n",
    "# alternative\n",
    "# keys = ['customer_id', 'employment_status', 'age', 'location']\n",
    "# values= [[12, 56, 2], [0, 1, 1], [22, 43, 31], ['Berlin', 'Cologne', 'Hamburg']]\n",
    "\n",
    "# customers = {}\n",
    "# for i in range(len(keys)):\n",
    "#     customers[keys[i]] = values[i]\n",
    "# customers"
   ]
  },
  {
   "attachments": {},
   "cell_type": "markdown",
   "metadata": {},
   "source": [
    "6.2.) Greifen Sie auf die Values des Keys \"age\" zu und berechnen Sie das Durchschnittsalter"
   ]
  },
  {
   "cell_type": "code",
   "execution_count": null,
   "metadata": {},
   "outputs": [],
   "source": [
    "mean_age = sum(customers[\"age\"])/len(customers[\"age\"])\n",
    "print(mean_age)"
   ]
  },
  {
   "cell_type": "code",
   "execution_count": null,
   "metadata": {},
   "outputs": [],
   "source": []
  }
 ],
 "metadata": {
  "kernelspec": {
   "display_name": "venv",
   "language": "python",
   "name": "python3"
  },
  "language_info": {
   "codemirror_mode": {
    "name": "ipython",
    "version": 3
   },
   "file_extension": ".py",
   "mimetype": "text/x-python",
   "name": "python",
   "nbconvert_exporter": "python",
   "pygments_lexer": "ipython3",
   "version": "3.10.4"
  },
  "orig_nbformat": 4,
  "vscode": {
   "interpreter": {
    "hash": "9adf0104b1edfcb8cf3e43ffb15ba7e0d0fec4a8e6ff79a9d11afae9d42cb47d"
   }
  }
 },
 "nbformat": 4,
 "nbformat_minor": 2
}
